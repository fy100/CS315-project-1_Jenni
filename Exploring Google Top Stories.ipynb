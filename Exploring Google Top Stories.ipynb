{
 "cells": [
  {
   "cell_type": "markdown",
   "id": "1dbe4353-ae93-4f8c-b244-5f5488134979",
   "metadata": {},
   "source": [
    "# Google Top Stories - An exploration\n",
    "\n",
    "This dataset was collected during the pandemic, it contains headlines shown by Google Search.\n",
    "\n",
    "The dataset is organized by year, month, date, hour, in a series of nested folders. The leaf folders contain JSON files with information about top stories. \n",
    "\n",
    "Your goal is to write first Python function that takes the name of the folder \"GoogleTopStories\" and stores the content of all the JSON files into a single CSV file. Once you have a CSV file, you can practice your pandas & seaborn skills in analyzing the data.\n",
    "\n",
    "Some tips and ideas for analysis:\n",
    "1. Use the Python command `os.walk` to iteratively traverse the nested subfolders. Account for hidden files that start with .\n",
    "2. Although the dataset has a column domain, imagine that it doesn't have it and write a function that takes a URL and extract the domain name from it and saves it in a colum. Use the .apply method to create the column. Learn how to parse URLs with urllib.parse.\n",
    "3. Create a bar chart with the frequencies of the top 10 domains. (Use domains, since 'source name' contains duplicates.)\n",
    "4. Create a heatmap that shows the distribution of domains across the 'story_position' values.\n",
    "5. Create timeseries of unique articles per month by query type. (This is challenging.)"
   ]
  },
  {
   "cell_type": "code",
   "execution_count": 1,
   "id": "147ffd3b-4ecf-4eab-bde9-e7f02f1146fe",
   "metadata": {},
   "outputs": [],
   "source": [
    "import os\n",
    "import json\n",
    "import csv"
   ]
  },
  {
   "cell_type": "code",
   "execution_count": 2,
   "id": "2cd93b62-65e6-41e1-b7d2-fa9bfbf517bf",
   "metadata": {},
   "outputs": [],
   "source": [
    "def convert_to_csv(folder_path, output_file):\n",
    "    # Open the CSV file for writing\n",
    "    with open(output_file, 'w', newline='', encoding='utf-8') as csvfile:\n",
    "        fieldnames = ['title', 'url', 'source', 'time', 'date', 'query', 'story_position', 'domain']\n",
    "        writer = csv.DictWriter(csvfile, fieldnames=fieldnames)\n",
    "        writer.writeheader()\n",
    "\n",
    "        # Traverse through the folder and its subfolders\n",
    "        for root, _, files in os.walk(folder_path):\n",
    "            for file in files:\n",
    "                # Check if the file is a JSON file\n",
    "                if file.endswith('.json'):\n",
    "                    file_path = os.path.join(root, file)\n",
    "                    with open(file_path, 'r', encoding='utf-8') as json_file:\n",
    "                        data = json.load(json_file)\n",
    "                        # Iterate over each item in the JSON data\n",
    "                        for item in data:\n",
    "                            writer.writerow({\n",
    "                                'title': item['title'],\n",
    "                                'url': item['url'],\n",
    "                                'source': item['source'],\n",
    "                                'time': item['time'],\n",
    "                                'date': item['date'],\n",
    "                                'query': item['query'],\n",
    "                                'story_position': item['story_position'],\n",
    "                                'domain': item['domain']\n",
    "                            })"
   ]
  },
  {
   "cell_type": "code",
   "execution_count": 3,
   "id": "35270d9b-2e44-4847-b368-459b00c14dc4",
   "metadata": {},
   "outputs": [],
   "source": [
    "convert_to_csv('/Users/jenni/Desktop/GoogleTopStories', 'google_top_stories.csv')\n"
   ]
  }
 ],
 "metadata": {
  "kernelspec": {
   "display_name": "Python 3 (ipykernel)",
   "language": "python",
   "name": "python3"
  },
  "language_info": {
   "codemirror_mode": {
    "name": "ipython",
    "version": 3
   },
   "file_extension": ".py",
   "mimetype": "text/x-python",
   "name": "python",
   "nbconvert_exporter": "python",
   "pygments_lexer": "ipython3",
   "version": "3.11.5"
  }
 },
 "nbformat": 4,
 "nbformat_minor": 5
}
